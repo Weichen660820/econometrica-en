{
 "cells": [
  {
   "cell_type": "markdown",
   "metadata": {},
   "source": [
    "# Panel data analysis with Python"
   ]
  },
  {
   "cell_type": "code",
   "execution_count": 1,
   "metadata": {},
   "outputs": [],
   "source": [
    "import numpy as np\n",
    "import pandas as pd\n",
    "\n",
    "from linearmodels import PooledOLS          # Pooled model\n",
    "from linearmodels import RandomEffects      # Random-effect model\n",
    "from linearmodels import PanelOLS           # Fixed-effect model\n",
    "from linearmodels import FirstDifferenceOLS # First difference model\n",
    "\n",
    "from linearmodels.panel import compare # Compare the results of multiple models"
   ]
  },
  {
   "cell_type": "markdown",
   "metadata": {},
   "source": [
    "## Panel data preparation\n",
    "\n",
    "Consider `Gasoline` dataset. We load it from a file as a DataFrame"
   ]
  },
  {
   "cell_type": "code",
   "execution_count": null,
   "metadata": {},
   "outputs": [],
   "source": [
    "df = pd.read_csv('./panels-plm/Gasoline.csv')\n",
    "df.head()"
   ]
  },
  {
   "cell_type": "markdown",
   "metadata": {},
   "source": [
    "To setup a panel data we need to set a multi-index over a DataFrame\n",
    "\n",
    "We call `.set_index(['country', 'year'])` method (the order matters!)"
   ]
  },
  {
   "cell_type": "code",
   "execution_count": null,
   "metadata": {},
   "outputs": [],
   "source": [
    "panel_df = df.set_index(['country', 'year'])\n",
    "panel_df.head()"
   ]
  },
  {
   "cell_type": "markdown",
   "metadata": {},
   "source": [
    "## Model fitting"
   ]
  },
  {
   "cell_type": "code",
   "execution_count": null,
   "metadata": {},
   "outputs": [],
   "source": [
    "mod_pl = PooledOLS.from_formula(formula='lgaspcar~1+lincomep+lrpmg+lcarpcap', data=panel_df)\n",
    "res_pl = mod_pl.fit()\n",
    "res_pl"
   ]
  },
  {
   "cell_type": "code",
   "execution_count": null,
   "metadata": {},
   "outputs": [],
   "source": [
    "mod_re = RandomEffects.from_formula(formula='lgaspcar~1+lincomep+lrpmg+lcarpcap', data=panel_df)\n",
    "res_re = mod_re.fit()\n",
    "res_re"
   ]
  },
  {
   "cell_type": "code",
   "execution_count": null,
   "metadata": {},
   "outputs": [],
   "source": [
    "mod_fe = PanelOLS.from_formula(formula='lgaspcar~1+lincomep+lrpmg+lcarpcap+EntityEffects', data=panel_df)\n",
    "res_fe = mod_fe.fit()\n",
    "res_fe"
   ]
  },
  {
   "cell_type": "code",
   "execution_count": null,
   "metadata": {},
   "outputs": [],
   "source": [
    "mod_fd = FirstDifferenceOLS.from_formula(formula='lgaspcar~lincomep+lrpmg+lcarpcap', data=panel_df)\n",
    "res_fd = mod_fd.fit()\n",
    "res_fd"
   ]
  },
  {
   "cell_type": "markdown",
   "metadata": {},
   "source": [
    "## Panel regressions with robust inferences\n",
    "\n",
    "Let's fit basic models with Arellano-Bond covariance matrix estimator\n",
    "\n",
    "we call `.fit(cov_type='clustered', cluster_entity=True)` method for all models\n",
    "\n",
    "We collect fitted models into a table"
   ]
  },
  {
   "cell_type": "code",
   "execution_count": null,
   "metadata": {},
   "outputs": [],
   "source": [
    "mod_pl = PooledOLS.from_formula(formula='lgaspcar~1+lincomep+lrpmg+lcarpcap', data=panel_df)\n",
    "mod_re = RandomEffects.from_formula(formula='lgaspcar~1+lincomep+lrpmg+lcarpcap', data=panel_df)\n",
    "mod_fe = PanelOLS.from_formula(formula='lgaspcar~1+lincomep+lrpmg+lcarpcap+EntityEffects', data=panel_df)\n",
    "mod_fd = FirstDifferenceOLS.from_formula(formula='lgaspcar~lincomep+lrpmg+lcarpcap', data=panel_df)\n",
    "\n",
    "res_pl = mod_pl.fit(cov_type='clustered', cluster_entity=True)\n",
    "res_re = mod_re.fit(cov_type='clustered', cluster_entity=True)\n",
    "res_fe = mod_fe.fit(cov_type='clustered', cluster_entity=True)\n",
    "res_fd = mod_fd.fit(cov_type='clustered', cluster_entity=True)\n",
    "\n",
    "compare({'Pool': res_pl, 'RE': res_re, 'FE': res_fe, 'FD':res_fd}, stars=True)"
   ]
  },
  {
   "cell_type": "markdown",
   "metadata": {},
   "source": [
    "Let's fit basic models with Driscoll-Kraay covariance matrix estimator\n",
    "\n",
    "we call `.fit(ov_type='kernel')` method for all models\n",
    "\n",
    "We collect fitted models into a table"
   ]
  },
  {
   "cell_type": "code",
   "execution_count": null,
   "metadata": {},
   "outputs": [],
   "source": [
    "mod_pl = PooledOLS.from_formula(formula='lgaspcar~1+lincomep+lrpmg+lcarpcap', data=panel_df)\n",
    "mod_re = RandomEffects.from_formula(formula='lgaspcar~1+lincomep+lrpmg+lcarpcap', data=panel_df)\n",
    "mod_fe = PanelOLS.from_formula(formula='lgaspcar~1+lincomep+lrpmg+lcarpcap+EntityEffects', data=panel_df)\n",
    "mod_fd = FirstDifferenceOLS.from_formula(formula='lgaspcar~lincomep+lrpmg+lcarpcap', data=panel_df)\n",
    "\n",
    "res_pl = mod_pl.fit(cov_type='kernel')\n",
    "res_re = mod_re.fit(cov_type='kernel')\n",
    "res_fe = mod_fe.fit(cov_type='kernel')\n",
    "res_fd = mod_fd.fit(cov_type='kernel')\n",
    "\n",
    "compare({'Pool': res_pl, 'RE': res_re, 'FE': res_fe, 'FD':res_fd}, stars=True)"
   ]
  }
 ],
 "metadata": {
  "kernelspec": {
   "display_name": "base",
   "language": "python",
   "name": "python3"
  },
  "language_info": {
   "codemirror_mode": {
    "name": "ipython",
    "version": 3
   },
   "file_extension": ".py",
   "mimetype": "text/x-python",
   "name": "python",
   "nbconvert_exporter": "python",
   "pygments_lexer": "ipython3",
   "version": "3.12.5"
  }
 },
 "nbformat": 4,
 "nbformat_minor": 2
}
