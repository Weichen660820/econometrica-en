{
 "cells": [
  {
   "cell_type": "markdown",
   "metadata": {},
   "source": [
    "# Unit root tests (package [`arch`](https://arch.readthedocs.io/en/latest/index.html))"
   ]
  },
  {
   "cell_type": "code",
   "execution_count": null,
   "metadata": {},
   "outputs": [],
   "source": [
    "import numpy as np\n",
    "import pandas as pd\n",
    "\n",
    "from arch.unitroot import ADF, KPSS, PhillipsPerron, DFGLS\n",
    "\n",
    "import pandas_datareader.data as web\n",
    "\n",
    "# настройки визуализации\n",
    "import matplotlib.pyplot as plt\n",
    "\n",
    "# Не показывать Warnings\n",
    "import warnings\n",
    "warnings.simplefilter(action='ignore', category=Warning)"
   ]
  },
  {
   "cell_type": "markdown",
   "metadata": {},
   "source": [
    "Let's load from [`FRED`](https://fred.stlouisfed.org/) weekly data on  Market Yield on U.S. Treasury Securities at 10-Year Constant Maturity (Symbol [`WGS10YR`](https://fred.stlouisfed.org/series/WGS10YR)) from 2000-01-01 to 2023-12-31 as`y` DataFrame"
   ]
  },
  {
   "cell_type": "code",
   "execution_count": null,
   "metadata": {},
   "outputs": [],
   "source": [
    "y = web.DataReader(name='WGS10YR', data_source='fred', start='2000-01-01', end='2023-12-31')"
   ]
  },
  {
   "cell_type": "code",
   "execution_count": null,
   "metadata": {},
   "outputs": [],
   "source": [
    "ax = y.plot(title='Market Yield on U.S. Treasury Securities')\n",
    "\n",
    "# надпись по ос oX\n",
    "ax.set_xlabel('Date')\n",
    "# надпись по ос oY\n",
    "ax.set_ylabel('10Y Rate (%)')\n",
    "# отобразить сетку\n",
    "ax.grid()\n",
    "# удалим легенду\n",
    "ax.legend().remove()\n",
    "\n",
    "plt.show()"
   ]
  },
  {
   "cell_type": "markdown",
   "metadata": {},
   "source": [
    "## ADF-test\n",
    "\n",
    "We call method [`ADF`](https://arch.readthedocs.io/en/latest/unitroot/generated/arch.unitroot.ADF.html#arch.unitroot.ADF)\n",
    "\n",
    "Let's choose case\n",
    "* with const\n",
    "* with lag selection with BIC criterion"
   ]
  },
  {
   "cell_type": "code",
   "execution_count": null,
   "metadata": {},
   "outputs": [],
   "source": [
    "ADF(y, trend='c', method='bic')"
   ]
  },
  {
   "cell_type": "markdown",
   "metadata": {},
   "source": [
    "## KPSS-test\n",
    "\n",
    "We call method [`KPSS`](https://arch.readthedocs.io/en/latest/unitroot/generated/arch.unitroot.KPSS.html#arch.unitroot.KPSS)\n",
    "\n",
    "Let's select test with"
   ]
  },
  {
   "cell_type": "code",
   "execution_count": null,
   "metadata": {},
   "outputs": [],
   "source": [
    "KPSS(y, trend='c')"
   ]
  },
  {
   "cell_type": "markdown",
   "metadata": {},
   "source": [
    "## PP-test\n",
    "\n",
    "We call method [`PhillipsPerron`](https://arch.readthedocs.io/en/latest/unitroot/generated/arch.unitroot.PhillipsPerron.html#arch.unitroot.PhillipsPerron)\n",
    "\n",
    "Let's choose case \n",
    "* with const (no trend)\n",
    "* tau test statistic"
   ]
  },
  {
   "cell_type": "code",
   "execution_count": null,
   "metadata": {},
   "outputs": [],
   "source": [
    "PhillipsPerron(y, trend='c', test_type='tau')"
   ]
  },
  {
   "cell_type": "markdown",
   "metadata": {},
   "source": [
    "## DF-GLS-test\n",
    "\n",
    "We call method [`DFGLS`](https://arch.readthedocs.io/en/latest/unitroot/generated/arch.unitroot.DFGLS.html#arch.unitroot.DFGLS)\n",
    "\n",
    "Let's choose case\n",
    "* with const\n",
    "* with lag selection with BIC criterion"
   ]
  },
  {
   "cell_type": "code",
   "execution_count": null,
   "metadata": {},
   "outputs": [],
   "source": [
    "DFGLS(y, trend='c', method='bic')"
   ]
  }
 ],
 "metadata": {
  "kernelspec": {
   "display_name": "base",
   "language": "python",
   "name": "python3"
  },
  "language_info": {
   "codemirror_mode": {
    "name": "ipython",
    "version": 3
   },
   "file_extension": ".py",
   "mimetype": "text/x-python",
   "name": "python",
   "nbconvert_exporter": "python",
   "pygments_lexer": "ipython3",
   "version": "3.12.3"
  }
 },
 "nbformat": 4,
 "nbformat_minor": 2
}
