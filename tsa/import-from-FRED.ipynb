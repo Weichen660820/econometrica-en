{
 "cells": [
  {
   "cell_type": "markdown",
   "metadata": {},
   "source": [
    "# Import from FRED database"
   ]
  },
  {
   "cell_type": "code",
   "execution_count": null,
   "metadata": {},
   "outputs": [],
   "source": [
    "import numpy as np\n",
    "import pandas as pd \n",
    "\n",
    "import pandas_datareader.data as web\n",
    "\n",
    "# visualization\n",
    "import matplotlib.pyplot as plt\n",
    "\n",
    "# do not show Warnings\n",
    "import warnings\n",
    "warnings.simplefilter(action='ignore', category=Warning)"
   ]
  },
  {
   "cell_type": "markdown",
   "metadata": {},
   "source": [
    "## Example 1 GDP\n",
    "From [`FRED`](https://fred.stlouisfed.org/) database we load quarterly data on GDP (Symbol [`GDP`](https://fred.stlouisfed.org/series/GDP)) from 1980 Q1 to 2023 Q4 and create `gdp` DataFrame"
   ]
  },
  {
   "cell_type": "code",
   "execution_count": null,
   "metadata": {},
   "outputs": [],
   "source": [
    "gdp = web.DataReader(name='GDP', data_source='fred', start='1980-1', end='2023-12' )\n",
    "gdp"
   ]
  },
  {
   "cell_type": "markdown",
   "metadata": {},
   "source": [
    "we change the default index to (periodical) quarterly index "
   ]
  },
  {
   "cell_type": "code",
   "execution_count": null,
   "metadata": {},
   "outputs": [],
   "source": [
    "gdp.index = pd.period_range(start='1980Q1', end='2023Q4', freq='Q')\n",
    "gdp"
   ]
  },
  {
   "cell_type": "markdown",
   "metadata": {},
   "source": [
    "Visualization"
   ]
  },
  {
   "cell_type": "code",
   "execution_count": null,
   "metadata": {},
   "outputs": [],
   "source": [
    "gdp.plot()"
   ]
  },
  {
   "cell_type": "markdown",
   "metadata": {},
   "source": [
    "let's change some settings"
   ]
  },
  {
   "cell_type": "code",
   "execution_count": null,
   "metadata": {},
   "outputs": [],
   "source": [
    "ax = gdp.plot(title='GDP')\n",
    "# label for oX\n",
    "ax.set_xlabel('Date')\n",
    "# label for OY\n",
    "ax.set_ylabel('US GDP')\n",
    "# add a grid\n",
    "ax.grid()\n",
    "# legend removing\n",
    "ax.legend().remove()\n",
    "\n",
    "plt.show()"
   ]
  },
  {
   "cell_type": "markdown",
   "metadata": {},
   "source": [
    "## Example 2: rates\n",
    "From [`FRED`](https://fred.stlouisfed.org/) database we load monthly data on\n",
    "\n",
    "* 3-Month Treasury Bill Secondary Market Rate (Symbol [`TB3MS`](https://fred.stlouisfed.org/series/TB3MS)) \n",
    "* 1-Year Treasury Bill Secondary Market Rate (Symbol [`TB1YR`](https://fred.stlouisfed.org/series/TB1YR)) \n",
    "* Market Yield on U.S. Treasury Securities at 10-Year Constant Maturity (Symbol [`GS10`](https://fred.stlouisfed.org/series/GS10))\n",
    "\n",
    "from 1990-01 to 2023-12 and we create`rates` DataFrame"
   ]
  },
  {
   "cell_type": "code",
   "execution_count": null,
   "metadata": {},
   "outputs": [],
   "source": [
    "rates = web.DataReader(name=['TB3MS', 'TB1YR', 'GS10'], data_source='fred',start='1990-01', end='2023-12')\n",
    "rates"
   ]
  },
  {
   "cell_type": "markdown",
   "metadata": {},
   "source": [
    "we change the default index to (periodical) monthly index"
   ]
  },
  {
   "cell_type": "code",
   "execution_count": null,
   "metadata": {},
   "outputs": [],
   "source": [
    "# index changing\n",
    "rates.index = pd.period_range(start='1990-01', end='2023-12', freq='M')\n",
    "# renaming of variables/columns\n",
    "rates.columns = ['3M_rate', '1Y-rate', '10Y_rate']\n",
    "rates"
   ]
  },
  {
   "cell_type": "markdown",
   "metadata": {},
   "source": [
    "Visualization (all in one graph)"
   ]
  },
  {
   "cell_type": "code",
   "execution_count": null,
   "metadata": {},
   "outputs": [],
   "source": [
    "ax = rates.plot()\n",
    "\n",
    "ax.set_xlabel('Date')\n",
    "ax.set_ylabel('Rate (%)')\n",
    "ax.grid()\n",
    "\n",
    "plt.show()"
   ]
  },
  {
   "cell_type": "markdown",
   "metadata": {},
   "source": [
    "Visualization as separated graphs"
   ]
  },
  {
   "cell_type": "code",
   "execution_count": null,
   "metadata": {},
   "outputs": [],
   "source": [
    "rates.plot(subplots=True)"
   ]
  },
  {
   "cell_type": "markdown",
   "metadata": {},
   "source": [
    "we change some settings"
   ]
  },
  {
   "cell_type": "code",
   "execution_count": null,
   "metadata": {},
   "outputs": [],
   "source": [
    "ax = rates.plot(subplots=True)\n",
    "\n",
    "ax[0].set_xlabel('Date')\n",
    "ax[0].set_ylabel('3M rate')\n",
    "ax[0].grid()\n",
    "ax[0].legend().remove()\n",
    "\n",
    "ax[1].set_xlabel('Date')\n",
    "ax[1].set_ylabel('1Y rate')\n",
    "ax[1].grid()\n",
    "ax[1].legend().remove()\n",
    "\n",
    "ax[2].set_xlabel('Date')\n",
    "ax[2].set_ylabel('10Y rate')\n",
    "ax[2].grid()\n",
    "ax[2].legend().remove()\n",
    "\n",
    "plt.show()"
   ]
  }
 ],
 "metadata": {
  "kernelspec": {
   "display_name": "base",
   "language": "python",
   "name": "python3"
  },
  "language_info": {
   "codemirror_mode": {
    "name": "ipython",
    "version": 3
   },
   "file_extension": ".py",
   "mimetype": "text/x-python",
   "name": "python",
   "nbconvert_exporter": "python",
   "pygments_lexer": "ipython3",
   "version": "3.12.3"
  }
 },
 "nbformat": 4,
 "nbformat_minor": 2
}
