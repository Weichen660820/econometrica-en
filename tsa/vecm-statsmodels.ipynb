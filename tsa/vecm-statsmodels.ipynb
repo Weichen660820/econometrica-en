{
 "cells": [
  {
   "cell_type": "markdown",
   "metadata": {},
   "source": [
    "# Model VECM (package [`statsmodels`](https://www.statsmodels.org/stable/index.html))"
   ]
  },
  {
   "cell_type": "code",
   "execution_count": null,
   "metadata": {},
   "outputs": [],
   "source": [
    "import numpy as np\n",
    "import pandas as pd\n",
    "\n",
    "from statsmodels.tsa.api import VECM\n",
    "from statsmodels.tsa.vector_ar.vecm import coint_johansen, select_coint_rank, select_order\n",
    "\n",
    "import pandas_datareader.data as web\n",
    "\n",
    "# настройки визуализации\n",
    "import matplotlib.pyplot as plt\n",
    "\n",
    "# Не показывать Warnings\n",
    "import warnings\n",
    "warnings.simplefilter(action='ignore', category=Warning)\n",
    "# Не показывать ValueWarning, ConvergenceWarning из statsmodels\n",
    "from statsmodels.tools.sm_exceptions import ValueWarning, ConvergenceWarning\n",
    "warnings.simplefilter('ignore', category=ValueWarning)\n",
    "warnings.simplefilter('ignore', category=ConvergenceWarning)"
   ]
  },
  {
   "cell_type": "code",
   "execution_count": null,
   "metadata": {},
   "outputs": [],
   "source": [
    "y = web.DataReader(name=['TB3MS', 'GS10', 'AAA', 'BAA'], data_source='fred', start='1995-01-01')\n",
    "\n",
    "y.plot(subplots=True)\n",
    "plt.show()"
   ]
  },
  {
   "cell_type": "markdown",
   "metadata": {},
   "source": [
    "## Cointegration test\n",
    "\n",
    "We call [coint_johansen(endog, det_order, k_ar_diff)](https://www.statsmodels.org/stable/generated/statsmodels.tsa.vector_ar.vecm.coint_johansen.html#statsmodels.tsa.vector_ar.vecm.coint_johansen)\n",
    "\n",
    "where \n",
    "* `det_order`\n",
    "\t* -1 - no deterministic terms\n",
    "\t* 0 - constant term\n",
    "\t* 1 - linear trend\n",
    "* `k_ar_diff`: Number of lagged differences in the model"
   ]
  },
  {
   "cell_type": "code",
   "execution_count": null,
   "metadata": {},
   "outputs": [],
   "source": [
    "# Johansen test\n",
    "coint_res = coint_johansen(y, det_order=0, k_ar_diff=2)"
   ]
  },
  {
   "cell_type": "code",
   "execution_count": null,
   "metadata": {},
   "outputs": [],
   "source": [
    "# trace-stat & critical\n",
    "coint_res.trace_stat, coint_res.trace_stat_crit_vals"
   ]
  },
  {
   "cell_type": "code",
   "execution_count": null,
   "metadata": {},
   "outputs": [],
   "source": [
    "# eigenvalue-stat & critical\n",
    "coint_res.max_eig_stat, coint_res.max_eig_stat_crit_vals"
   ]
  },
  {
   "cell_type": "markdown",
   "metadata": {},
   "source": [
    "We call [`select_coint_rank(endog, det_order, k_ar_diff, method='trace', signif=0.05)`](https://www.statsmodels.org/stable/generated/statsmodels.tsa.vector_ar.vecm.select_coint_rank.html#statsmodels.tsa.vector_ar.vecm.select_coint_rank)\n",
    "\n",
    "where \n",
    "* `det_order`\n",
    "\t* -1 - no deterministic terms\n",
    "\t* 0 - constant term\n",
    "\t* 1 - linear trend\n",
    "* `k_ar_diff` - Number of lagged differences in the model\n",
    "* `method` - test statistics: `trace` or `maxeig`\n",
    "* `signif` is significant level: 0.1, 0.05, 0.01"
   ]
  },
  {
   "cell_type": "code",
   "execution_count": null,
   "metadata": {},
   "outputs": [],
   "source": [
    "# select cointegration rank\n",
    "select_coint_rank(y, det_order=0, k_ar_diff=2, method='trace', signif=0.05).summary()"
   ]
  },
  {
   "cell_type": "markdown",
   "metadata": {},
   "source": [
    "## Fitting VECM\n",
    "\n",
    "For automatic lag selection we call [`select_order(data, maxlags, deterministic='n')`](https://www.statsmodels.org/stable/generated/statsmodels.tsa.vector_ar.vecm.select_order.html#statsmodels.tsa.vector_ar.vecm.select_order)\n",
    "\n",
    "where `deterministic` \n",
    "* \"n\" - no deterministic terms\n",
    "* \"co\" - constant outside the cointegration relation\n",
    "* \"ci\" - constant within the cointegration relation\n",
    "* \"lo\" - linear trend outside the cointegration relation\n",
    "* \"li\" - linear trend within the cointegration relation\n",
    "\n",
    "Combinations of these are possible (e.g. \"cili\" or \"colo\" for linear trend with intercept)"
   ]
  },
  {
   "cell_type": "code",
   "execution_count": null,
   "metadata": {},
   "outputs": [],
   "source": [
    "# number or lags selection for VECM\n",
    "select_order(y, maxlags=2, deterministic='c').summary()"
   ]
  },
  {
   "cell_type": "markdown",
   "metadata": {},
   "source": [
    "For the fitting of the model of given oder we call [VECM](https://www.statsmodels.org/stable/generated/statsmodels.tsa.vector_ar.vecm.VECM.html#statsmodels.tsa.vector_ar.vecm.VECM)\n",
    "\n",
    "здесь `deterministic` \n",
    "* \"n\" - no deterministic terms\n",
    "* \"co\" - constant outside the cointegration relation\n",
    "* \"ci\" - constant within the cointegration relation\n",
    "* \"lo\" - linear trend outside the cointegration relation\n",
    "* \"li\" - linear trend within the cointegration relation\n",
    "\n",
    "Combinations of these are possible (e.g. \"cili\" or \"colo\" for linear trend with intercept)"
   ]
  },
  {
   "cell_type": "code",
   "execution_count": null,
   "metadata": {},
   "outputs": [],
   "source": [
    "mod = VECM(y, k_ar_diff=1, coint_rank=1, deterministic='co', missing='drop')\n",
    "\n",
    "res = mod.fit()\n",
    "\n",
    "res.summary(alpha=0.05)"
   ]
  },
  {
   "cell_type": "markdown",
   "metadata": {},
   "source": [
    "## Model diagnostic"
   ]
  },
  {
   "cell_type": "code",
   "execution_count": null,
   "metadata": {},
   "outputs": [],
   "source": [
    "# serial correlation test\n",
    "res.test_whiteness(nlags=10, signif=0.05, adjusted=True).summary()"
   ]
  },
  {
   "cell_type": "markdown",
   "metadata": {},
   "source": [
    "## Forecasting"
   ]
  },
  {
   "cell_type": "code",
   "execution_count": null,
   "metadata": {},
   "outputs": [],
   "source": [
    "# we transform y into numpy array\n",
    "res.predict(steps=10)"
   ]
  },
  {
   "cell_type": "markdown",
   "metadata": {},
   "source": [
    "Visualization"
   ]
  },
  {
   "cell_type": "code",
   "execution_count": null,
   "metadata": {},
   "outputs": [],
   "source": [
    "fig = res.plot_forecast(steps=20, alpha=0.05, plot_conf_int=True, n_last_obs=50)\n",
    "\n",
    "# изменим положение легенды для каждого подграфика\n",
    "# for i in range(y.shape[1]):\n",
    "# \tfig.axes[i].legend(loc=3)\n",
    "\n",
    "plt.show()"
   ]
  },
  {
   "cell_type": "markdown",
   "metadata": {},
   "source": [
    "## IRF"
   ]
  },
  {
   "cell_type": "code",
   "execution_count": null,
   "metadata": {},
   "outputs": [],
   "source": [
    "res.irf(periods=10).plot(signif=0.05)\n",
    "plt.show()"
   ]
  },
  {
   "cell_type": "markdown",
   "metadata": {},
   "source": [
    "## Causality test"
   ]
  },
  {
   "cell_type": "code",
   "execution_count": null,
   "metadata": {},
   "outputs": [],
   "source": [
    "res.test_granger_causality(caused=['AAA', 'BAA'], causing=['TB3MS', 'GS10'], signif=0.01).summary()"
   ]
  },
  {
   "cell_type": "code",
   "execution_count": null,
   "metadata": {},
   "outputs": [],
   "source": [
    "res.test_granger_causality(caused= ['TB3MS', 'GS10'], causing=['AAA', 'BAA'], signif=0.01).summary()"
   ]
  }
 ],
 "metadata": {
  "kernelspec": {
   "display_name": "base",
   "language": "python",
   "name": "python3"
  },
  "language_info": {
   "codemirror_mode": {
    "name": "ipython",
    "version": 3
   },
   "file_extension": ".py",
   "mimetype": "text/x-python",
   "name": "python",
   "nbconvert_exporter": "python",
   "pygments_lexer": "ipython3",
   "version": "3.12.3"
  }
 },
 "nbformat": 4,
 "nbformat_minor": 2
}
