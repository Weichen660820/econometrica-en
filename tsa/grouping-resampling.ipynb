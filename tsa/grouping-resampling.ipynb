{
 "cells": [
  {
   "cell_type": "markdown",
   "metadata": {},
   "source": [
    "# Grouping and aggregation"
   ]
  },
  {
   "cell_type": "code",
   "execution_count": null,
   "metadata": {},
   "outputs": [],
   "source": [
    "import numpy as np\n",
    "import pandas as pd \n",
    "\n",
    "import pandas_datareader.data as web\n",
    "\n",
    "# visualization\n",
    "import matplotlib.pyplot as plt\n",
    "\n",
    "# do not show Warnings\n",
    "import warnings\n",
    "warnings.simplefilter(action='ignore', category=Warning)"
   ]
  },
  {
   "cell_type": "markdown",
   "metadata": {},
   "source": [
    "## Example 1 short-term rate\n",
    "From[`FRED`](https://fred.stlouisfed.org/) database we load weekly data on 3-Month Treasury Bill Secondary Market Rate (Symbol [`WTB3MS`](https://fred.stlouisfed.org/series/WTB3MS)) from 2000-01-01 to 2023-12-31 and we create `rate3m_weekly` DataFrame"
   ]
  },
  {
   "cell_type": "code",
   "execution_count": null,
   "metadata": {},
   "outputs": [],
   "source": [
    "rate3m_weekly = web.DataReader(name='WTB3MS', data_source='fred', start='2000-01-01', end='2023-12-31')\n",
    "rate3m_weekly"
   ]
  },
  {
   "cell_type": "markdown",
   "metadata": {},
   "source": [
    "Let's transform (aggregate) into quarterly data via averaging"
   ]
  },
  {
   "cell_type": "code",
   "execution_count": null,
   "metadata": {},
   "outputs": [],
   "source": [
    "rate3m_quarterly = rate3m_weekly.groupby(pd.Grouper(freq='QS')).mean()\n",
    "rate3m_quarterly.index = pd.period_range(start='2000Q1', end='2023Q4', freq='Q')\n",
    "rate3m_quarterly"
   ]
  },
  {
   "cell_type": "markdown",
   "metadata": {},
   "source": [
    "## Example 2 long-term rate\n",
    "From [`FRED`](https://fred.stlouisfed.org/)  database we load data on  Market Yield on U.S. Treasury Securities at 10-Year Constant Maturity (Symbol [`DGS10`](https://fred.stlouisfed.org/series/DGS10)) from 2000-01-01 to 2023-12-31 and we create`rate10_daily` DataFrame"
   ]
  },
  {
   "cell_type": "code",
   "execution_count": null,
   "metadata": {},
   "outputs": [],
   "source": [
    "rate10_daily = web.DataReader(name='DGS10', data_source='fred', start='2000-01-01', end='2023-12-31')\n",
    "rate10_daily"
   ]
  },
  {
   "cell_type": "markdown",
   "metadata": {},
   "source": [
    "Let's transform (aggregate) into quarterly data by taking the last observation within each month\n"
   ]
  },
  {
   "cell_type": "code",
   "execution_count": null,
   "metadata": {},
   "outputs": [],
   "source": [
    "rate3m_monthly = rate10_daily.groupby(pd.Grouper(freq='M')).tail(1)\n",
    "rate3m_monthly.index = pd.period_range(start='2000-01', end='2023-12', freq='M')\n",
    "rate3m_monthly"
   ]
  }
 ],
 "metadata": {
  "kernelspec": {
   "display_name": "base",
   "language": "python",
   "name": "python3"
  },
  "language_info": {
   "codemirror_mode": {
    "name": "ipython",
    "version": 3
   },
   "file_extension": ".py",
   "mimetype": "text/x-python",
   "name": "python",
   "nbconvert_exporter": "python",
   "pygments_lexer": "ipython3",
   "version": "3.11.6"
  }
 },
 "nbformat": 4,
 "nbformat_minor": 2
}
