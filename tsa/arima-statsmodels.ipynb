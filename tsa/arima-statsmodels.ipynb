{
 "cells": [
  {
   "cell_type": "markdown",
   "metadata": {},
   "source": [
    "# ARIMA (package [`statsmodels`](https://www.statsmodels.org/stable/index.html))\n",
    "\n",
    "Specification of ARIMA(p,d,q) (ARIMA = AutoRegressive Integrated Moving Average)\n",
    "\n",
    "$$\n",
    "\\begin{aligned}\n",
    "\t\\Delta ^d y_t &= (\\alpha_0+\\alpha_1 t)+\\sum_{j=1}^p\\phi_j\\Delta^d y_{t-j}+u_t+\\sum_{s=1}^q\\theta_s u_{t-s} &\n",
    "\tu_t&\\sim WN(0,\\sigma^2)\n",
    "\\end{aligned}\n",
    "$$\n",
    "where\n",
    "* p is an oder of autoregressive part\n",
    "* d is an integration order \n",
    "* q is an order of moving averageп part\n",
    "* $\\alpha_0$ is an intercept/cons (d=0) or drift (d>0)\n",
    "\n",
    "Specification by means of  lag operator\n",
    "\n",
    "$$\n",
    "\\begin{aligned}\n",
    "\t\\phi_p(L)(1-L)^dy_t&=(\\alpha_0+\\alpha_1t)+\\theta_q(L)u_t & u_t&\\sim WN(0,\\sigma^2)\n",
    "\\end{aligned}\n",
    "$$\n",
    "with polynomials\n",
    "$$\n",
    "\\begin{aligned}\n",
    "\t\\phi_p(z)&=1-\\phi_1z-\\cdots-\\phi_pz^p & \\theta_q(z)&=1+\\theta_1z+\\cdots+\\theta_qz^q\n",
    "\\end{aligned}\n",
    "$$"
   ]
  },
  {
   "cell_type": "code",
   "execution_count": 2,
   "metadata": {},
   "outputs": [],
   "source": [
    "import numpy as np\n",
    "import pandas as pd\n",
    "\n",
    "from statsmodels.tsa.api import ARIMA\n",
    "from statsmodels.stats.api import het_arch, acorr_ljungbox\n",
    "from statsmodels.graphics.tsaplots import plot_predict\n",
    "\n",
    "import pandas_datareader.data as web\n",
    "\n",
    "# настройки визуализации\n",
    "import matplotlib.pyplot as plt\n",
    "\n",
    "# Не показывать Warnings\n",
    "import warnings\n",
    "warnings.simplefilter(action='ignore', category=Warning)\n",
    "# Не показывать ValueWarning, ConvergenceWarning из statsmodels\n",
    "from statsmodels.tools.sm_exceptions import ValueWarning, ConvergenceWarning\n",
    "warnings.simplefilter('ignore', category=ValueWarning)\n",
    "warnings.simplefilter('ignore', category=ConvergenceWarning)"
   ]
  },
  {
   "cell_type": "markdown",
   "metadata": {},
   "source": [
    "We usei the following classes\n",
    "* [ARIMA](https://www.statsmodels.org/stable/generated/statsmodels.tsa.arima.model.ARIMA.html#statsmodels.tsa.arima.model.ARIMA) (specified model)\n",
    "* [ARIMAResult](https://www.statsmodels.org/stable/generated/statsmodels.tsa.arima.model.ARIMAResults.html#statsmodels.tsa.arima.model.ARIMAResults) (fitted model)\n",
    "\n",
    "We need to set parameters `order` (model's order) and `trend`\n",
    "\n",
    "|d|parameter|`trend`|\n",
    "|-|-|-|\n",
    "|0|$\\alpha_0=\\alpha_1=0$|'n'|\n",
    "|0|$\\alpha_0\\ne0,\\alpha_1=0$|'c'|\n",
    "|0|$\\alpha_0,\\alpha_1\\ne0$|'ct'|\n",
    "|>0|$\\alpha_0=\\alpha_1=0$|'n'|\n",
    "|>0|$\\alpha_0\\ne0,\\alpha_1=0$|'t'|"
   ]
  },
  {
   "cell_type": "markdown",
   "metadata": {},
   "source": [
    "## Fitting of ARIMA of given order\n",
    "\n",
    "Let's import from [`FRED`](https://fred.stlouisfed.org/) weekly data on Market Yield on U.S. Treasury Securities at 10-Year Constant Maturity (Symbol [`WGS10YR`](https://fred.stlouisfed.org/series/WGS10YR)) from 2000-01-01 to 2023-12-31 as `y` DataFrame"
   ]
  },
  {
   "cell_type": "code",
   "execution_count": 3,
   "metadata": {},
   "outputs": [],
   "source": [
    "y = web.DataReader(name='WGS10YR', data_source='fred', start='2000-01-01', end='2023-12-31')"
   ]
  },
  {
   "cell_type": "markdown",
   "metadata": {},
   "source": [
    "Consider ARIMA(2,1,1) without drift for series `y`\n",
    "\n",
    "Model's specification\n",
    "\n",
    "$$\n",
    "\t(1-\\phi_1L-\\phi_2 L^2)(1-L) y_t=u_t+\\theta u_{t-1}\n",
    "$$"
   ]
  },
  {
   "cell_type": "code",
   "execution_count": null,
   "metadata": {},
   "outputs": [],
   "source": [
    "# specified model\n",
    "mod = ARIMA(y, order=(2,1,1), trend='n', missing='drop')\n",
    "# model's fitting\n",
    "res = mod.fit()\n",
    "# fitting report\n",
    "res.summary(alpha=0.05)"
   ]
  },
  {
   "cell_type": "markdown",
   "metadata": {},
   "source": [
    "## Diagnostic of fitted model\n",
    "\n",
    "Some graphs"
   ]
  },
  {
   "cell_type": "code",
   "execution_count": null,
   "metadata": {},
   "outputs": [],
   "source": [
    "res.plot_diagnostics(lags=15)\n",
    "\n",
    "plt.show()"
   ]
  },
  {
   "cell_type": "markdown",
   "metadata": {},
   "source": [
    "Portmanteau test for serial correlation (Ljung-Box test). Let's the number of lags is 7"
   ]
  },
  {
   "cell_type": "code",
   "execution_count": null,
   "metadata": {},
   "outputs": [],
   "source": [
    "# debiased degrees of freedom: number of fitted coefs = number of parameters - 1 (-sigma2)\n",
    "model_df = mod.k_params-1\n",
    "# to test we drop first d residuals (d=mod.k_diff)\n",
    "acorr_ljungbox(res.resid[mod.k_diff:] , lags=[7], model_df=model_df)"
   ]
  },
  {
   "cell_type": "markdown",
   "metadata": {},
   "source": [
    "Test on heteroskedasticity (on ARCH-effects)"
   ]
  },
  {
   "cell_type": "code",
   "execution_count": null,
   "metadata": {},
   "outputs": [],
   "source": [
    "# debiased degrees of freedom: number of fitted coefs = number of parameters - 1 (-sigma2)\n",
    "model_df = mod.k_params-1\n",
    "# to test we drop first d residuals (d=mod.k_diff)\n",
    "lm_stat, lm_pval, f_stat, f_pval = het_arch(res.resid[mod.k_diff:], nlags=7, ddof=model_df)\n",
    "\n",
    "lm_stat, lm_pval"
   ]
  },
  {
   "cell_type": "markdown",
   "metadata": {},
   "source": [
    "## Forecasting\n",
    "\n",
    "Let's forecast to 10 periods"
   ]
  },
  {
   "cell_type": "code",
   "execution_count": null,
   "metadata": {},
   "outputs": [],
   "source": [
    "forecasts = res.forecast(steps=10)\n",
    "forecasts"
   ]
  },
  {
   "cell_type": "markdown",
   "metadata": {},
   "source": [
    "visualization of forecasts"
   ]
  },
  {
   "cell_type": "code",
   "execution_count": null,
   "metadata": {},
   "outputs": [],
   "source": [
    "plot_predict(res, start=len(y), end=len(y)+10, alpha=0.05)\n",
    "\n",
    "plt.show()"
   ]
  },
  {
   "cell_type": "code",
   "execution_count": null,
   "metadata": {},
   "outputs": [],
   "source": [
    "plt.plot(y.tail(30))\n",
    "plt.plot(forecasts)\n",
    "\n",
    "plt.show()"
   ]
  }
 ],
 "metadata": {
  "kernelspec": {
   "display_name": "base",
   "language": "python",
   "name": "python3"
  },
  "language_info": {
   "codemirror_mode": {
    "name": "ipython",
    "version": 3
   },
   "file_extension": ".py",
   "mimetype": "text/x-python",
   "name": "python",
   "nbconvert_exporter": "python",
   "pygments_lexer": "ipython3",
   "version": "3.12.3"
  }
 },
 "nbformat": 4,
 "nbformat_minor": 2
}
