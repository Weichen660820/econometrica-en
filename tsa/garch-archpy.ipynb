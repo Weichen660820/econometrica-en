{
  "cells": [
    {
      "cell_type": "markdown",
      "metadata": {
        "id": "naThBAT3Fpxo"
      },
      "source": [
        "# ARCH-type models (package [`arch`](https://arch.readthedocs.io/en/latest/index.html))"
      ]
    },
    {
      "cell_type": "code",
      "execution_count": 1,
      "metadata": {
        "id": "j0HQiy8lFpxp",
        "outputId": "ac87aa3b-af21-4c13-cfe8-b816b189c34d",
        "colab": {
          "base_uri": "https://localhost:8080/",
          "height": 384
        }
      },
      "outputs": [
        {
          "output_type": "error",
          "ename": "ModuleNotFoundError",
          "evalue": "No module named 'arch'",
          "traceback": [
            "\u001b[0;31m---------------------------------------------------------------------------\u001b[0m",
            "\u001b[0;31mModuleNotFoundError\u001b[0m                       Traceback (most recent call last)",
            "\u001b[0;32m<ipython-input-1-2e52fe028ab2>\u001b[0m in \u001b[0;36m<cell line: 4>\u001b[0;34m()\u001b[0m\n\u001b[1;32m      2\u001b[0m \u001b[0;32mimport\u001b[0m \u001b[0mpandas\u001b[0m \u001b[0;32mas\u001b[0m \u001b[0mpd\u001b[0m\u001b[0;34m\u001b[0m\u001b[0;34m\u001b[0m\u001b[0m\n\u001b[1;32m      3\u001b[0m \u001b[0;34m\u001b[0m\u001b[0m\n\u001b[0;32m----> 4\u001b[0;31m \u001b[0;32mfrom\u001b[0m \u001b[0march\u001b[0m \u001b[0;32mimport\u001b[0m \u001b[0march_model\u001b[0m\u001b[0;34m\u001b[0m\u001b[0;34m\u001b[0m\u001b[0m\n\u001b[0m\u001b[1;32m      5\u001b[0m \u001b[0;34m\u001b[0m\u001b[0m\n\u001b[1;32m      6\u001b[0m \u001b[0;32mfrom\u001b[0m \u001b[0march\u001b[0m\u001b[0;34m.\u001b[0m\u001b[0munivariate\u001b[0m \u001b[0;32mimport\u001b[0m \u001b[0mARX\u001b[0m\u001b[0;34m,\u001b[0m \u001b[0mGARCH\u001b[0m\u001b[0;34m,\u001b[0m \u001b[0mARCHInMean\u001b[0m\u001b[0;34m\u001b[0m\u001b[0;34m\u001b[0m\u001b[0m\n",
            "\u001b[0;31mModuleNotFoundError\u001b[0m: No module named 'arch'",
            "",
            "\u001b[0;31m---------------------------------------------------------------------------\u001b[0;32m\nNOTE: If your import is failing due to a missing package, you can\nmanually install dependencies using either !pip or !apt.\n\nTo view examples of installing some common dependencies, click the\n\"Open Examples\" button below.\n\u001b[0;31m---------------------------------------------------------------------------\u001b[0m\n"
          ],
          "errorDetails": {
            "actions": [
              {
                "action": "open_url",
                "actionText": "Open Examples",
                "url": "/notebooks/snippets/importing_libraries.ipynb"
              }
            ]
          }
        }
      ],
      "source": [
        "import numpy as np\n",
        "import pandas as pd\n",
        "\n",
        "from arch import arch_model\n",
        "\n",
        "from arch.univariate import ARX, GARCH, ARCHInMean\n",
        "\n",
        "import pandas_datareader.data as web\n",
        "\n",
        "# настройки визуализации\n",
        "import matplotlib.pyplot as plt\n",
        "\n",
        "# Не показывать Warnings\n",
        "import warnings\n",
        "warnings.simplefilter(action='ignore', category=Warning)"
      ]
    },
    {
      "cell_type": "markdown",
      "metadata": {
        "id": "1jWCt0k_Fpxq"
      },
      "source": [
        "Basic ARCH-type models\n",
        "* [`ARCH(p)`](https://arch.readthedocs.io/en/latest/univariate/generated/arch.univariate.ARCH.html#arch.univariate.ARCH)\n",
        "* [`GARCH(p,0,q,power)`](https://arch.readthedocs.io/en/latest/univariate/generated/arch.univariate.GARCH.html#arch.univariate.GARCH)\n",
        "* [`EGARCH(p,q)`](https://arch.readthedocs.io/en/latest/univariate/generated/arch.univariate.EGARCH.html#arch.univariate.EGARCH)\n",
        "* [`APARCH(p,o,q,delta)`](https://arch.readthedocs.io/en/latest/univariate/generated/arch.univariate.APARCH.html#arch.univariate.APARCH)\n",
        "* [`EWMAVariance(lambda)`](https://arch.readthedocs.io/en/latest/univariate/generated/arch.univariate.EWMAVariance.html#arch.univariate.EWMAVariance)\n",
        "\n",
        "For `GARCH-in-mean` we use class [`ARCHInMean`](https://arch.readthedocs.io/en/latest/univariate/generated/arch.univariate.ARCHInMean.html#arch.univariate.ARCHInMean)"
      ]
    },
    {
      "cell_type": "markdown",
      "metadata": {
        "id": "hoD4RrwUFpxq"
      },
      "source": [
        "Let's load from [`FRED`](https://fred.stlouisfed.org/) weekly data on 3-Month Treasury Bill Secondary Market Rate (Symbol [`WTB3MS`](https://fred.stlouisfed.org/series/WTB3MS)) from 2000-01-01 to 2023-12-31 and let `y` be its first difference"
      ]
    },
    {
      "cell_type": "code",
      "execution_count": null,
      "metadata": {
        "id": "7BbS-vT-Fpxr"
      },
      "outputs": [],
      "source": [
        "rate = web.DataReader(name='WTB3MS', data_source='fred', start='2000-01-01', end='2023-12-31')\n",
        "y = rate.diff().dropna()\n",
        "\n",
        "y.plot()\n",
        "plt.show()"
      ]
    },
    {
      "cell_type": "markdown",
      "metadata": {
        "id": "vqUMF6IeFpxr"
      },
      "source": [
        "## Fitting of AR-(*)ARCH of given order with `arch_model`\n"
      ]
    },
    {
      "cell_type": "markdown",
      "metadata": {
        "id": "D_OqGyC3Fpxr"
      },
      "source": [
        "Let's fit AR(2)-GARCH(1,1)\n",
        "\n",
        "Specification\n",
        "\n",
        "\\begin{align*}\n",
        "\ty_t&=\\alpha_0+\\phi_1y_{t-1}+\\phi_2y_{t-2}+u_t \\\\ u_t&=\\sigma_t \\epsilon_t \\\\\n",
        "\t\\sigma^\\lambda_t &=\\omega+\\alpha|\\epsilon_{t-1}|^\\lambda+\\beta\\sigma^\\lambda_{t-1}\n",
        "\\end{align*}\n",
        "\n",
        "where $\\lambda=2$"
      ]
    },
    {
      "cell_type": "code",
      "execution_count": null,
      "metadata": {
        "id": "5Oe91Gr-Fpxr"
      },
      "outputs": [],
      "source": [
        "am = arch_model(y, mean='ARX', lags=2, vol='GARCH', p=1, q=1, power=2)\n",
        "\n",
        "res = am.fit()\n",
        "\n",
        "res.summary()"
      ]
    },
    {
      "cell_type": "code",
      "execution_count": null,
      "metadata": {
        "id": "NiPHHky3Fpxs"
      },
      "outputs": [],
      "source": [
        "res.plot(annualize='W')\n",
        "plt.show()"
      ]
    },
    {
      "cell_type": "code",
      "execution_count": null,
      "metadata": {
        "id": "C7BXLB-vFpxs"
      },
      "outputs": [],
      "source": [
        "res.hedgehog_plot(plot_type='volatility')\n",
        "plt.show()"
      ]
    },
    {
      "cell_type": "code",
      "execution_count": null,
      "metadata": {
        "id": "0XO7sdxLFpxs"
      },
      "outputs": [],
      "source": [
        "res.hedgehog_plot(plot_type='mean')\n",
        "plt.show()"
      ]
    },
    {
      "cell_type": "code",
      "execution_count": null,
      "metadata": {
        "id": "XR49CSj8Fpxs"
      },
      "outputs": [],
      "source": [
        "res.arch_lm_test(lags=5)"
      ]
    },
    {
      "cell_type": "markdown",
      "metadata": {
        "id": "V5BxxwpXFpxt"
      },
      "source": [
        "## Fitting of AR-(*)ARCH of given order\n",
        "\n",
        "Let's fit AR(1)-GARCH(1,1,1)\n",
        "\n",
        "Model's specification\n",
        "\n",
        "\\begin{align*}\n",
        "\ty_t&=\\alpha_0+\\phi_1y_{t-1}+u_t \\\\ u_t&=\\sigma_t \\epsilon_t \\\\\n",
        "\t\\sigma^\\lambda_t &=\\omega+\\alpha|\\epsilon_{t-1}|^\\lambda+\\gamma|\\epsilon_{t-1}|^\\lambda I(\\epsilon_{t-1}<0)\n",
        "\t +\\beta\\sigma^\\lambda_{t-1}\n",
        "\\end{align*}\n",
        "\n",
        "where $\\lambda=2$"
      ]
    },
    {
      "cell_type": "code",
      "execution_count": null,
      "metadata": {
        "id": "r82Am5yjFpxt"
      },
      "outputs": [],
      "source": [
        "ar = ARX(y, lags=1)\n",
        "ar.volatility = GARCH(p=1, o=1, q=1, power=2)\n",
        "\n",
        "res = ar.fit()\n",
        "\n",
        "res.summary()"
      ]
    },
    {
      "cell_type": "markdown",
      "metadata": {
        "id": "JBAA4wfQFpxt"
      },
      "source": [
        "## Forecasting\n",
        "\n",
        "Let's evaluate 5-periods forecasts for AR(1)-GARCH(1,1)\n",
        "\n",
        "Model's specification\n",
        "\n",
        "\\begin{align*}\n",
        "\ty_t&=\\alpha_0+\\phi y_{t-1}+u_t \\\\ u_t&=\\sigma_t \\epsilon_t \\\\\n",
        "\t\\sigma^\\lambda_t &=\\omega+\\alpha |\\epsilon_{t-1}|^\\lambda+\\beta\\sigma^\\lambda_{t-1}\n",
        "\\end{align*}\n",
        "\n",
        "where $\\lambda=2$"
      ]
    },
    {
      "cell_type": "code",
      "execution_count": null,
      "metadata": {
        "id": "y_x4mSRJFpxt"
      },
      "outputs": [],
      "source": [
        "am = arch_model(y, mean='ARX', lags=1, vol='GARCH', p=1, q=1, o=0)\n",
        "\n",
        "res = am.fit()\n",
        "\n",
        "y_forecasts = res.forecast(horizon=5)\n",
        "\n",
        "# forecasts in mean\n",
        "y_forecasts.mean"
      ]
    },
    {
      "cell_type": "code",
      "execution_count": null,
      "metadata": {
        "id": "TUREwd8HFpxt"
      },
      "outputs": [],
      "source": [
        "y_forecasts.residual_variance"
      ]
    },
    {
      "cell_type": "code",
      "execution_count": null,
      "metadata": {
        "id": "9f0fErzcFpxu"
      },
      "outputs": [],
      "source": [
        "# forecasts of volatility\n",
        "y_forecasts.variance"
      ]
    },
    {
      "cell_type": "code",
      "execution_count": null,
      "metadata": {
        "id": "As4yAvMGFpxu"
      },
      "outputs": [],
      "source": [
        "am = arch_model(y, mean='ARX', lags=1, vol='EGARCH', p=1, q=1, o=0)\n",
        "\n",
        "res = am.fit()\n",
        "\n",
        "y_forecasts = res.forecast(horizon=1)\n",
        "\n",
        "# forecasts in mean\n",
        "y_forecasts.mean"
      ]
    },
    {
      "cell_type": "code",
      "execution_count": null,
      "metadata": {
        "id": "yV3OwKTLFpxu"
      },
      "outputs": [],
      "source": [
        "# forecasts of volatility\n",
        "y_forecasts.variance"
      ]
    },
    {
      "cell_type": "markdown",
      "metadata": {
        "id": "VBx3BpOtFpxv"
      },
      "source": [
        "## Fitting GARCH-in-Mean\n",
        "\n",
        "Model's specification\n",
        "\n",
        "\\begin{align*}\n",
        "\ty_t&=\\alpha_0++\\kappa\\log \\sigma^2_t+\\phi y_{t-1}+u_t \\\\ u_t&=\\sigma_t \\epsilon_t \\\\\n",
        "\t\\sigma^\\lambda_t &=\\omega+\\alpha |\\epsilon_{t-1}|^\\lambda+\\beta\\sigma^\\lambda_{t-1}\n",
        "\\end{align*}\n",
        "\n",
        "where $\\lambda=2$"
      ]
    },
    {
      "cell_type": "code",
      "execution_count": null,
      "metadata": {
        "id": "C0MqZyKJFpxv"
      },
      "outputs": [],
      "source": [
        "gim = ARCHInMean(y, lags=1, volatility=GARCH(p=1,o=0, q=1), form='log')\n",
        "res = gim.fit()\n",
        "\n",
        "res.summary()"
      ]
    }
  ],
  "metadata": {
    "kernelspec": {
      "display_name": "base",
      "language": "python",
      "name": "python3"
    },
    "language_info": {
      "codemirror_mode": {
        "name": "ipython",
        "version": 3
      },
      "file_extension": ".py",
      "mimetype": "text/x-python",
      "name": "python",
      "nbconvert_exporter": "python",
      "pygments_lexer": "ipython3",
      "version": "3.12.3"
    },
    "colab": {
      "provenance": []
    }
  },
  "nbformat": 4,
  "nbformat_minor": 0
}