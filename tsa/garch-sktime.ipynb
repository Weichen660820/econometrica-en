{
 "cells": [
  {
   "cell_type": "markdown",
   "metadata": {},
   "source": [
    "# ARCH-type models (package [`sktime`](https://www.sktime.net/en/stable/index.html))  "
   ]
  },
  {
   "cell_type": "code",
   "execution_count": null,
   "metadata": {},
   "outputs": [],
   "source": [
    "import numpy as np\n",
    "import pandas as pd\n",
    "\n",
    "from sktime.forecasting.arch import ARCH\n",
    "from sktime.utils.plotting import plot_series\n",
    "# временной горизонт для прогнозирования\n",
    "from sktime.forecasting.base import ForecastingHorizon\n",
    "\n",
    "import pandas_datareader.data as web\n",
    "\n",
    "# настройки визуализации\n",
    "import matplotlib.pyplot as plt\n",
    "\n",
    "# Не показывать Warnings\n",
    "import warnings\n",
    "warnings.simplefilter(action='ignore', category=Warning)\n",
    "# Не показывать ValueWarning, ConvergenceWarning из statsmodels\n",
    "# from statsmodels.tools.sm_exceptions import ValueWarning, ConvergenceWarning\n",
    "# warnings.simplefilter('ignore', category=ValueWarning)\n",
    "# warnings.simplefilter('ignore', category=ConvergenceWarning)"
   ]
  },
  {
   "cell_type": "markdown",
   "metadata": {},
   "source": [
    "## Fitting of (*)ARCH of given order\n",
    "\n",
    "Let's load from [`FRED`](https://fred.stlouisfed.org/) weekly data on Market Yield on U.S. Treasury Securities at 10-Year Constant Maturity (Symbol [`WGS10YR`](https://fred.stlouisfed.org/series/WGS10YR)) from 2000-01-01 to 2023-12-31 and let `y` be its first difference"
   ]
  },
  {
   "cell_type": "code",
   "execution_count": null,
   "metadata": {},
   "outputs": [],
   "source": [
    "rate = web.DataReader(name='WTB3MS', data_source='fred', start='2000-01-01', end='2023-12-31')\n",
    "y = rate.diff().dropna()\n",
    "\n",
    "y.plot()\n",
    "plt.show()"
   ]
  },
  {
   "cell_type": "markdown",
   "metadata": {},
   "source": [
    "Let's fit AR(1)-GARCH(1,1)\n",
    "\n",
    "Model's specification\n",
    "\n",
    "\\begin{align*}\n",
    "\ty_t&=\\alpha_0+\\phi_1y_{t-1}+u_t \\\\ u_t&=\\sigma_t \\epsilon_t \\\\\n",
    "\t\\sigma^\\lambda_t &=\\omega+\\alpha|\\epsilon_{t-1}|^\\lambda+\\beta\\sigma^\\lambda_{t-1}\n",
    "\\end{align*}\n",
    "\n",
    "где $\\lambda=2$"
   ]
  },
  {
   "cell_type": "code",
   "execution_count": null,
   "metadata": {},
   "outputs": [],
   "source": [
    "forecaster = ARCH(mean='AR', lags=1, vol='GARCH', p=1, q=1, power=2)  \n",
    "forecaster.fit(y)\n",
    "\n",
    "forecaster.summary()"
   ]
  },
  {
   "cell_type": "code",
   "execution_count": null,
   "metadata": {},
   "outputs": [],
   "source": [
    "forecaster.get_fitted_params()"
   ]
  },
  {
   "cell_type": "markdown",
   "metadata": {},
   "source": [
    "## Forecasting\n",
    "\n",
    "Let's evaluate 5-periods forecasts for AR(1)-GARCH(1,1)\n",
    "\n",
    "Model's specification\n",
    "\n",
    "\\begin{align*}\n",
    "\ty_t&=\\alpha_0+\\phi y_{t-1}+u_t \\\\ u_t&=\\sigma_t \\epsilon_t \\\\\n",
    "\t\\sigma^\\lambda_t &=\\omega+\\alpha |\\epsilon_{t-1}|^\\lambda+\\beta\\sigma^\\lambda_{t-1}\n",
    "\\end{align*}\n",
    "\n",
    "where $\\lambda=2$"
   ]
  },
  {
   "cell_type": "code",
   "execution_count": null,
   "metadata": {},
   "outputs": [],
   "source": [
    "forecaster = ARCH(mean='AR', lags=1, vol='GARCH', p=1, q=1, power=2)\n",
    "\n",
    "# we set forecasting horizon\n",
    "fh = ForecastingHorizon(np.arange(1,6), freq ='W-Fri')\n",
    "\n",
    "y_pred = forecaster.fit_predict(y=y, fh=fh)\n",
    "\n",
    "y_pred"
   ]
  },
  {
   "cell_type": "code",
   "execution_count": null,
   "metadata": {},
   "outputs": [],
   "source": [
    "# forecasts of volatility\n",
    "forecaster.predict_var(fh=fh)"
   ]
  }
 ],
 "metadata": {
  "kernelspec": {
   "display_name": "base",
   "language": "python",
   "name": "python3"
  },
  "language_info": {
   "codemirror_mode": {
    "name": "ipython",
    "version": 3
   },
   "file_extension": ".py",
   "mimetype": "text/x-python",
   "name": "python",
   "nbconvert_exporter": "python",
   "pygments_lexer": "ipython3",
   "version": "3.11.6"
  }
 },
 "nbformat": 4,
 "nbformat_minor": 2
}
