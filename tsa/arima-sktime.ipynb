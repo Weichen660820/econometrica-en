{
 "cells": [
  {
   "cell_type": "markdown",
   "metadata": {},
   "source": [
    "# ARIMA (package [`sktime`](https://www.sktime.net/en/stable/))\n",
    "\n",
    "Specification of ARIMA(p,d,q) (ARIMA = AutoRegressive Integrated Moving Average)\n",
    "\n",
    "$$\n",
    "\\begin{aligned}\n",
    "\t\\Delta ^d y_t &= (\\alpha_0+\\alpha_1 t)+\\sum_{j=1}^p\\phi_j\\Delta^d y_{t-j}+u_t+\\sum_{s=1}^q\\theta_s u_{t-s} &\n",
    "\tu_t&\\sim WN(0,\\sigma^2)\n",
    "\\end{aligned}\n",
    "$$\n",
    "where\n",
    "* p is an oder of autoregressive part\n",
    "* d is an integration order \n",
    "* q is an order of moving averageп part\n",
    "* $\\alpha_0$ is an intercept/cons (d=0) or drift (d>0)\n",
    "\n",
    "Specification by means of  lag operator\n",
    "\n",
    "$$\n",
    "\\begin{aligned}\n",
    "\t\\phi_p(L)(1-L)^dy_t&=(\\alpha_0+\\alpha_1t)+\\theta_q(L)u_t & u_t&\\sim WN(0,\\sigma^2)\n",
    "\\end{aligned}\n",
    "$$\n",
    "with polynomials\n",
    "$$\n",
    "\\begin{aligned}\n",
    "\t\\phi_p(z)&=1-\\phi_1z-\\cdots-\\phi_pz^p & \\theta_q(z)&=1+\\theta_1z+\\cdots+\\theta_qz^q\n",
    "\\end{aligned}\n",
    "$$"
   ]
  },
  {
   "cell_type": "code",
   "execution_count": null,
   "metadata": {},
   "outputs": [],
   "source": [
    "import numpy as np\n",
    "import pandas as pd\n",
    "\n",
    "from sktime.forecasting.arima import ARIMA, AutoARIMA\n",
    "# from sktime.forecasting.arima import StatsModelsARIMA\n",
    "# from sktime.forecasting.statsforecast import StatsForecastAutoARIMA\n",
    "from sktime.utils.plotting import plot_series\n",
    "# временной горизонт для прогнозирования\n",
    "from sktime.forecasting.base import ForecastingHorizon\n",
    "\n",
    "import pandas_datareader.data as web\n",
    "\n",
    "# тесты диагностики\n",
    "from statsmodels.stats.diagnostic import het_arch, acorr_ljungbox\n",
    "\n",
    "# настройки визуализации\n",
    "import matplotlib.pyplot as plt\n",
    "\n",
    "# Не показывать Warnings\n",
    "import warnings\n",
    "warnings.simplefilter(action='ignore', category=Warning)\n",
    "# Не показывать ValueWarning, ConvergenceWarning из statsmodels\n",
    "from statsmodels.tools.sm_exceptions import ValueWarning, ConvergenceWarning\n",
    "warnings.simplefilter('ignore', category=ValueWarning)\n",
    "warnings.simplefilter('ignore', category=ConvergenceWarning)"
   ]
  },
  {
   "cell_type": "markdown",
   "metadata": {},
   "source": [
    "For fitting we use class (in fact from package `pmdarima`)\n",
    "* [ARIMA](https://www.sktime.net/en/stable/api_reference/auto_generated/sktime.forecasting.arima.ARIMA.html): model of given order\n",
    "* [AutoARIMA](https://www.sktime.net/en/stable/api_reference/auto_generated/sktime.forecasting.arima.AutoARIMA.html): fitting of \"optimal order\"\n",
    "\n",
    "We need to set parameters `order` (model's order) and  `trend`\n",
    "\n",
    "|Parameter|`trend`|\n",
    "|-|-|\n",
    "|$\\alpha_0=\\alpha_1=0$|'n'|\n",
    "|$\\alpha_0\\ne0,\\alpha_1=0$|'c'|\n",
    "|$\\alpha_0,\\alpha_1\\ne0$|'ct'|\n",
    "\n",
    "Alternatively we can use classes\n",
    "* [StatsModelsARIMA](https://www.sktime.net/en/stable/api_reference/auto_generated/sktime.forecasting.arima.StatsModelsARIMA.html): model of given order (from `statsmodels`)\n",
    "* [StatsForecastAutoARIMA](https://www.sktime.net/en/stable/api_reference/auto_generated/sktime.forecasting.statsforecast.StatsForecastAutoARIMA.html): fitting of \"optimal order\" (from `statsforecast`)\n",
    "\n"
   ]
  },
  {
   "cell_type": "markdown",
   "metadata": {},
   "source": [
    "## Fitting of ARIMA of given order\n",
    "\n",
    "Let's import from [`FRED`](https://fred.stlouisfed.org/) weekly data on 3-Month Treasury Bill Secondary Market Rate (Symbol [`WTB3MS`](https://fred.stlouisfed.org/series/WTB3MS)) rom 2000-01-01 to 2023-12-31 as `y` DataFrame"
   ]
  },
  {
   "cell_type": "code",
   "execution_count": null,
   "metadata": {},
   "outputs": [],
   "source": [
    "y = web.DataReader(name='WTB3MS', data_source='fred', start='2000-01-01', end='2023-12-31')"
   ]
  },
  {
   "cell_type": "markdown",
   "metadata": {},
   "source": [
    "Consider ARIMA(2,1,1) without drift for series `y`\n",
    "\n",
    "Model's specification\n",
    "\n",
    "$$\n",
    "\t(1-\\phi_1L-\\phi_2 L^2)(1-L) y_t=u_t+\\theta_1 u_{t-1}+\\theta_2 u_{t-2}\n",
    "$$"
   ]
  },
  {
   "cell_type": "code",
   "execution_count": null,
   "metadata": {},
   "outputs": [],
   "source": [
    "forecaster = ARIMA(order=(2,1,2), trend='n')\n",
    "forecaster.fit(y)\n",
    "forecaster.summary()"
   ]
  },
  {
   "cell_type": "code",
   "execution_count": null,
   "metadata": {},
   "outputs": [],
   "source": [
    "forecaster.get_fitted_params()"
   ]
  },
  {
   "cell_type": "markdown",
   "metadata": {},
   "source": [
    "## Diagnostic of fitted model\n",
    "\n",
    "Residuals (__please pay attention on missing values!__)"
   ]
  },
  {
   "cell_type": "code",
   "execution_count": null,
   "metadata": {},
   "outputs": [],
   "source": [
    "forecaster.predict_residuals(y)"
   ]
  },
  {
   "cell_type": "markdown",
   "metadata": {},
   "source": [
    "Graph of resudials"
   ]
  },
  {
   "cell_type": "code",
   "execution_count": null,
   "metadata": {},
   "outputs": [],
   "source": [
    "forecaster.predict_residuals(y).plot()\n",
    "\n",
    "plt.show()"
   ]
  },
  {
   "cell_type": "markdown",
   "metadata": {},
   "source": [
    "Serial correlation test (Ljung-Box)\n",
    "\n",
    "__Important__ we need to remove missing values in residuals"
   ]
  },
  {
   "cell_type": "code",
   "execution_count": null,
   "metadata": {},
   "outputs": [],
   "source": [
    "# model_df = p+q\n",
    "acorr_ljungbox(forecaster.predict_residuals(y).dropna() , lags=[7], model_df=2+2)"
   ]
  },
  {
   "cell_type": "markdown",
   "metadata": {},
   "source": [
    "Heteroskedasticity test\n",
    "\n",
    "__Important__ we need to remove missing values in residuals"
   ]
  },
  {
   "cell_type": "code",
   "execution_count": null,
   "metadata": {},
   "outputs": [],
   "source": [
    "lm_stat, lm_pval, f_stat, f_pval = het_arch(forecaster.predict_residuals(y).dropna(), nlags=7, ddof=2+2)\n",
    "\n",
    "lm_stat, lm_pval"
   ]
  },
  {
   "cell_type": "markdown",
   "metadata": {},
   "source": [
    "## Forecasting\n",
    "\n",
    "Let's forecast with ARIMA(1,1,1) with drift\n",
    "\n",
    "Specification\n",
    "\n",
    "$$\n",
    "\t(1-\\phi L)(1-L) y_t=\\alpha_0+u_t+\\theta u_{t-1}\n",
    "$$\n",
    "\n",
    "Forecasting for 10 periods"
   ]
  },
  {
   "cell_type": "code",
   "execution_count": null,
   "metadata": {},
   "outputs": [],
   "source": [
    "forecaster = ARIMA(order=(1,1,1), trend='n')\n",
    "# forecasting horizon\n",
    "fh = ForecastingHorizon(np.arange(1,11), freq ='W-Fri')\n",
    "\n",
    "y_pred = forecaster.fit_predict(y=y, fh=fh)\n",
    "y_pred"
   ]
  },
  {
   "cell_type": "markdown",
   "metadata": {},
   "source": [
    "Forecasts' visuialization "
   ]
  },
  {
   "cell_type": "code",
   "execution_count": null,
   "metadata": {},
   "outputs": [],
   "source": [
    "plot_series(y.tail(50), y_pred, labels=['y', 'y_pred'])\n",
    "\n",
    "plt.show()"
   ]
  },
  {
   "cell_type": "markdown",
   "metadata": {},
   "source": [
    "Confidence interval"
   ]
  },
  {
   "cell_type": "code",
   "execution_count": null,
   "metadata": {},
   "outputs": [],
   "source": [
    "conf_int = forecaster.predict_interval(fh=fh, coverage=0.9)\n",
    "conf_int"
   ]
  },
  {
   "cell_type": "code",
   "execution_count": null,
   "metadata": {},
   "outputs": [],
   "source": [
    "plot_series(y.tail(20), y_pred, labels=['y', 'y_pred'], markers=['o', 'X'], pred_interval=conf_int)\n",
    "\n",
    "plt.show()"
   ]
  },
  {
   "cell_type": "markdown",
   "metadata": {},
   "source": [
    "# Automatic order selection\n",
    "\n",
    "Basic parameters of order selection\n",
    "\n",
    "|Criterion|`AutoARIMA`|value|\n",
    "|-|-|-|\n",
    "|Information criterion|`information_criterion`|aic (default), aicc, bic, hqic |\n",
    "|unit root test|`test`|kpss (default), adf, pp|\n",
    "|max order d|`max_d`| 2 by default |\n",
    "|max order p,q|`max_p`, ` max_q`|5 by default|\n",
    "|seasonal or not|`seasonal`|True by default|\n",
    "|significant level|`alpha`|0.05 by default|\n",
    "\n",
    "__Remark__: order selection includes the best choice of drift/intercept/trend "
   ]
  },
  {
   "cell_type": "code",
   "execution_count": null,
   "metadata": {},
   "outputs": [],
   "source": [
    "forecaster = AutoARIMA(information_criterion='bic', test='kpss', seasonal=False)\n",
    "forecaster.fit(y)\n",
    "forecaster.get_fitted_params() #['order']"
   ]
  }
 ],
 "metadata": {
  "kernelspec": {
   "display_name": "base",
   "language": "python",
   "name": "python3"
  },
  "language_info": {
   "codemirror_mode": {
    "name": "ipython",
    "version": 3
   },
   "file_extension": ".py",
   "mimetype": "text/x-python",
   "name": "python",
   "nbconvert_exporter": "python",
   "pygments_lexer": "ipython3",
   "version": "3.12.3"
  }
 },
 "nbformat": 4,
 "nbformat_minor": 2
}
